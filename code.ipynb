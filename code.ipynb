import cv2
import numpy as np

cap = cv2.VideoCapture("People.mp4")
        

while(True):
    ret, frame = cap.read()
    if ret:

        # get the index of the non-white areas and make them black in the main frame
        # [b,g,r]
        color_in = [130, 130, 130]  # color you want to filter
        color_out = [255, 255, 255]   # color you want to set
        for i in range(3):
            frame[frame[:, :, i] < color_in[i]] = color_out[i]
        
# Show keypoints
        cv2.imshow("Keypoints", im_with_keypoints)
        # play the new video
        cv2.imshow("res",frame)        
        if cv2.waitKey(1) & 0xFF == ord('q'):
            break
    else:
        break


cv2.waitKey(0)
cv2.destroyAllWindows()
